{
 "cells": [
  {
   "cell_type": "markdown",
   "metadata": {},
   "source": [
    "# Transaction Scheduling with Conflicts\n",
    "\n",
    "This project explores different ways of scheduling transactions with conflicts using quantum computing techniques. We will start by giving a general introduction to the data used for experiments. We will see how this problem can be mapped to quadratic unconstrained binary optimization (QUBO) problems which are a way to represent optimization problems mathematically. Additionally, we will discuss ways of creating QUBOs from problems with continuous lengths for the transactions. Then, we will recreate the results from the paper by Tim Bittner and Sven Groppe [1] using a prepared dataset with coninuous length transaction scheduling problems. Afterwards, we will apply the knowledge and transfer the problem to the variational quantum eigensolver (VQE) and quantum approximate optimization algorithm (QAOA). Finally, we will compare Simulated Annealing, VQE, QAOA and an exact solver."
   ]
  },
  {
   "cell_type": "markdown",
   "metadata": {},
   "source": [
    "## Setup\n",
    "\n",
    "In order to use this notebook, a Python environment is required. Please note, that the notebook has only been tested using Python version 3.8. Some APIs might not work with later versions and dependency issues could arise.\n",
    "\n",
    "Before you can run any cell, you need to setup your environment to run jupyter notebooks. Here, we assume, you know how to do that.\n",
    "\n",
    "Please run the following cell to install all necessary requirements. This is only required the first time you use this notebook in a new environment. If you encounter a `CompileError`, please try to install the packages of the requirements one by one using\n",
    "\n",
    "```console\n",
    "pip install <PACKAGE>==<VERSION>\n",
    "```"
   ]
  },
  {
   "cell_type": "code",
   "execution_count": null,
   "metadata": {},
   "outputs": [],
   "source": [
    "import sys\n",
    "\n",
    "dependencies = [\n",
    "    \"dwave-ocean-sdk==6.7.1\",\n",
    "    \"pyqubo==1.4.0\",\n",
    "    \"qiskit==0.45.2\",\n",
    "    \"qiskit-algorithms==0.2.2\",\n",
    "    \"qiskit-optimization==0.6.0\",\n",
    "    \"matplotlib==3.7.4\",\n",
    "    \"qiskit-aer==0.13.2\",\n",
    "    \"pydantic==2.5.3\",\n",
    "]\n",
    "dep_str = \" \".join(dependencies)\n",
    "!{sys.executable} -m pip install {dep_str}"
   ]
  },
  {
   "cell_type": "code",
   "execution_count": 2,
   "metadata": {},
   "outputs": [],
   "source": [
    "import matplotlib.pyplot as plt\n",
    "\n",
    "from collections import defaultdict\n",
    "from dwave.samplers import SimulatedAnnealingSampler\n",
    "from pathlib import Path\n",
    "from qiskit_optimization.algorithms import MinimumEigenOptimizer\n",
    "from qiskit_algorithms import NumPyMinimumEigensolver, QAOA, SamplingVQE\n",
    "from qiskit_algorithms.optimizers import COBYLA\n",
    "from qiskit_algorithms.utils import algorithm_globals\n",
    "from qiskit.circuit.library import TwoLocal\n",
    "from qiskit.primitives import Sampler\n",
    "from typing import List\n",
    "\n",
    "from src.dataset import Dataset, read_dataset\n",
    "from src.io_model import DataModel, append_data_to_file, \\\n",
    "    read_json_lines_file_to_pydantic\n",
    "from src.qubo import build_discrete_qubo, convert_to_qiskit\n",
    "from src.solver import simulated_annealing_solver, exact_solver, qaoa_solver, \\\n",
    "    sampling_vqe_solver\n",
    "from src.task import TransactionScheduleTask\n",
    "from src.transformation import binary_variables_to_solution_order"
   ]
  },
  {
   "cell_type": "code",
   "execution_count": 3,
   "metadata": {},
   "outputs": [],
   "source": [
    "algorithm_globals.random_seed = 1"
   ]
  },
  {
   "cell_type": "markdown",
   "metadata": {},
   "source": [
    "## Data\n",
    "\n",
    "An example of a single entry of our datasets may look like this:\n",
    "```python\n",
    "# SchedulingWithConflicts_n3_m2.txt\n",
    "[2,1,1] [[0,0,0],[0,0,1],[0,1,0]] [1,0,2]\n",
    "```\n",
    "The filename tells us that we have `n=3` transactions and `m=2` machines to execute the transactions.\n",
    "\n",
    "The first array specifies the length of the transactions. The position of the length identifies the transaction. For example, the `2` tells us that transaction 0 has a length of two time units. Here, we do not specify what the unit is and we can ignore it for the purposes of this demonstration.\n",
    "\n",
    "The second array is two-dimensional and tells us which transactions have conflicts and therefore, cannot run in parallel. You can read this as a symmetric matrix. In the example, transactions one and two are in conflict, meaning that they cannot run in parallel.\n",
    "\n",
    "The last array shows an example solution. The numbers represent the transactions. The way this representation can be mapped to the actual schedule is as follows. Take the next transaction from the array. The transaction is given to the core that has the lowest processing time up to that transaction. If two or more cores have the same processing time, the one with the lowest order (index) is chosen. A transaction starts as soon as possible, but must take into account conflicts and the processing times of other transactions on that core before it. We will call this the **\"processing time format,\"** below. Note that there may be multiple solutions that lead to the same result."
   ]
  },
  {
   "cell_type": "markdown",
   "metadata": {},
   "source": [
    "Here we read the data set shown above. This data set contains only one sample for simplicity."
   ]
  },
  {
   "cell_type": "code",
   "execution_count": 4,
   "metadata": {},
   "outputs": [],
   "source": [
    "dataset = read_dataset(Path('data/SchedulingWithConflicts_n3_m2.txt'))"
   ]
  },
  {
   "cell_type": "markdown",
   "metadata": {},
   "source": [
    "You can see what an example_task looks like and how the class works."
   ]
  },
  {
   "cell_type": "code",
   "execution_count": 5,
   "metadata": {},
   "outputs": [],
   "source": [
    "example_task = dataset.tasks[0]"
   ]
  },
  {
   "cell_type": "code",
   "execution_count": 6,
   "metadata": {},
   "outputs": [
    {
     "data": {
      "image/png": "[encoded data removed]",
      "text/plain": [
       "<Figure size 640x480 with 1 Axes>"
      ]
     },
     "metadata": {},
     "output_type": "display_data"
    }
   ],
   "source": [
    "example_task.optimal_solution.visualize()"
   ]
  },
  {
   "cell_type": "code",
   "execution_count": 7,
   "metadata": {},
   "outputs": [
    {
     "data": {
      "text/plain": [
       "array([1, 0, 2], dtype=uint8)"
      ]
     },
     "execution_count": 7,
     "metadata": {},
     "output_type": "execute_result"
    }
   ],
   "source": [
    "example_task.solution"
   ]
  },
  {
   "cell_type": "code",
   "execution_count": 8,
   "metadata": {},
   "outputs": [
    {
     "data": {
      "text/plain": [
       "array([2., 1., 1.])"
      ]
     },
     "execution_count": 8,
     "metadata": {},
     "output_type": "execute_result"
    }
   ],
   "source": [
    "example_task.lengths"
   ]
  },
  {
   "cell_type": "code",
   "execution_count": 9,
   "metadata": {},
   "outputs": [
    {
     "data": {
      "text/plain": [
       "array([[0, 0, 0],\n",
       "       [0, 0, 1],\n",
       "       [0, 1, 0]], dtype=uint8)"
      ]
     },
     "execution_count": 9,
     "metadata": {},
     "output_type": "execute_result"
    }
   ],
   "source": [
    "example_task.conflicts"
   ]
  },
  {
   "cell_type": "markdown",
   "metadata": {},
   "source": [
    "## Building QUBO problems\n",
    "\n",
    "The paper [1] gives the details of how to construct QUBOs for discrete variations of the transaction scheduling problem. In reality, however, problems do not follow discrete time lengths. This is also true for the eight-transaction datasets. To construct the QUBOs, we need to specify fixed points in time at which a transaction can begin and end. For continuous problems, the number of available time points is infinite. Therefore, we need to be able to construct QUBO formulations based on non-discrete problems while preventing the search space from exploding. If we have `n` variables, the search space grows exponentially. Since we are using binary variables, we have `2^n` possible solutions.\n",
    "\n",
    "One possible solution follows the work of Denkena et al. [2]. It proposes to discretise the problem by estimating a total runtime `R`. The runtime is divided into `T` equal time steps. The length of each transaction is discretised in the time steps. In order to provide a solution that is guaranteed to be correct, the ceiling function is used to map the number of time steps into a truly discrete time span. However, this may leave gaps which can be reduced by using the continuous times again and squeezing the result.\n",
    "\n",
    "The second way is similar to the first one, but relies on prior knowledge. Instead of estimating a good time step length, we can choose it ourselves. For our example dataset that could be a time step of length 1.\n",
    "\n",
    "**NOTE:** In order to replicate the examples of paper [1], it was necessary to adapt the computation of `p` for `B` and `C` by adding a `-1`: `min{s_1 + l_i_1 - 1, r_i_2}`."
   ]
  },
  {
   "cell_type": "code",
   "execution_count": 10,
   "metadata": {},
   "outputs": [
    {
     "data": {
      "text/plain": [
       "(39, 3.0)"
      ]
     },
     "execution_count": 10,
     "metadata": {},
     "output_type": "execute_result"
    }
   ],
   "source": [
    "# Define number of time steps.\n",
    "qubo, offset = build_discrete_qubo(\n",
    "    task=example_task,\n",
    "    number_time_steps=2\n",
    ")\n",
    "len(qubo), offset"
   ]
  },
  {
   "cell_type": "code",
   "execution_count": 11,
   "metadata": {},
   "outputs": [
    {
     "data": {
      "text/plain": [
       "(39, 3.0)"
      ]
     },
     "execution_count": 11,
     "metadata": {},
     "output_type": "execute_result"
    }
   ],
   "source": [
    "# Define length of time steps.\n",
    "qubo, offset = build_discrete_qubo(\n",
    "    task=example_task,\n",
    "    time_step_length=1\n",
    ")\n",
    "len(qubo), offset"
   ]
  },
  {
   "cell_type": "markdown",
   "metadata": {},
   "source": [
    "Next, we show how we create a solution order as given by the dataset from binary variables."
   ]
  },
  {
   "cell_type": "code",
   "execution_count": 12,
   "metadata": {},
   "outputs": [
    {
     "data": {
      "text/plain": [
       "[2, 0, 1]"
      ]
     },
     "execution_count": 12,
     "metadata": {},
     "output_type": "execute_result"
    }
   ],
   "source": [
    "binary_variables_to_solution_order(['1-2-0', '2-1-1', '3-1-0'], example_task)"
   ]
  },
  {
   "cell_type": "markdown",
   "metadata": {},
   "source": [
    "## Solving a Problem"
   ]
  },
  {
   "cell_type": "markdown",
   "metadata": {},
   "source": [
    "Now, we use different techniques to approximate the ground state of the Hamiltonian (objective function/QUBO) for our example task."
   ]
  },
  {
   "cell_type": "code",
   "execution_count": 13,
   "metadata": {},
   "outputs": [],
   "source": [
    "# Simulated \"Quantum Annealing\"\n",
    "simulated_annealing_sampler = SimulatedAnnealingSampler()\n",
    "\n",
    "# Exact method\n",
    "exact = NumPyMinimumEigensolver()\n",
    "exact_opt = MinimumEigenOptimizer(exact)\n",
    "\n",
    "# VQE\n",
    "ansatz = TwoLocal(rotation_blocks=\"ry\", entanglement_blocks=\"cz\")\n",
    "svqe = SamplingVQE(sampler=Sampler(), ansatz=ansatz, optimizer=COBYLA())\n",
    "svqe_opt = MinimumEigenOptimizer(svqe)\n",
    "\n",
    "# QAOA\n",
    "qaoa = QAOA(sampler=Sampler(), optimizer=COBYLA(), initial_point=[0.0, 0.0])\n",
    "qaoa_opt = MinimumEigenOptimizer(qaoa)"
   ]
  },
  {
   "cell_type": "code",
   "execution_count": 14,
   "metadata": {},
   "outputs": [],
   "source": [
    "qubo, offset = build_discrete_qubo(\n",
    "    task=example_task,\n",
    "    time_step_length=1\n",
    ")\n",
    "quadratic_program = convert_to_qiskit(qubo, offset)"
   ]
  },
  {
   "cell_type": "code",
   "execution_count": 15,
   "metadata": {},
   "outputs": [
    {
     "name": "stdout",
     "output_type": "stream",
     "text": [
      "  1-1-0 1-2-0 2-1-0 2-1-1 2-2-0 2-2-1 3-1-0 3-1-1 3-2-0 3-2-1    energy num_oc.\n",
      "0     1     0     0     0     0     1     0     0     1     0 -2.222222     120\n",
      "1     0     1     0     1     0     0     1     0     0     0 -2.222222     138\n",
      "2     1     0     0     0     1     0     0     0     0     1 -2.222222     113\n",
      "3     0     1     1     0     0     0     0     1     0     0 -2.222222     128\n",
      "4     0     0     0     0     1     0     0     1     0     0 -1.555556       1\n",
      "['BINARY', 5 rows, 500 samples, 10 variables]\n"
     ]
    }
   ],
   "source": [
    "sampleset = simulated_annealing_sampler.sample_qubo(qubo, num_reads=500)\n",
    "print(sampleset.aggregate())"
   ]
  },
  {
   "cell_type": "code",
   "execution_count": 16,
   "metadata": {},
   "outputs": [
    {
     "name": "stdout",
     "output_type": "stream",
     "text": [
      "objective function value: 0.7777777777777777\n",
      "variable values: 1-1-0=0.0, 2-2-1=0.0, 2-1-0=1.0, 3-2-0=0.0, 1-2-0=1.0, 3-1-1=1.0, 2-1-1=0.0, 2-2-0=0.0, 3-2-1=0.0, 3-1-0=0.0\n",
      "status: SUCCESS\n"
     ]
    }
   ],
   "source": [
    "exact_res = exact_opt.solve(quadratic_program)\n",
    "print(exact_res.prettyprint())"
   ]
  },
  {
   "cell_type": "code",
   "execution_count": 17,
   "metadata": {},
   "outputs": [
    {
     "name": "stdout",
     "output_type": "stream",
     "text": [
      "objective function value: 0.7777777777777777\n",
      "variable values: 1-1-0=1.0, 2-2-1=0.0, 2-1-0=0.0, 3-2-0=0.0, 1-2-0=0.0, 3-1-1=0.0, 2-1-1=0.0, 2-2-0=1.0, 3-2-1=1.0, 3-1-0=0.0\n",
      "status: SUCCESS\n"
     ]
    }
   ],
   "source": [
    "svqe_result = svqe_opt.solve(quadratic_program)\n",
    "print(svqe_result.prettyprint())"
   ]
  },
  {
   "cell_type": "code",
   "execution_count": 18,
   "metadata": {},
   "outputs": [
    {
     "name": "stdout",
     "output_type": "stream",
     "text": [
      "objective function value: 0.7777777777777777\n",
      "variable values: 1-1-0=1.0, 2-2-1=1.0, 2-1-0=0.0, 3-2-0=1.0, 1-2-0=0.0, 3-1-1=0.0, 2-1-1=0.0, 2-2-0=0.0, 3-2-1=0.0, 3-1-0=0.0\n",
      "status: SUCCESS\n"
     ]
    }
   ],
   "source": [
    "qaoa_res = qaoa_opt.solve(quadratic_program)\n",
    "print(qaoa_res.prettyprint())"
   ]
  },
  {
   "cell_type": "markdown",
   "metadata": {},
   "source": [
    "## Analysis over multiple Problems\n",
    "\n",
    "Here, we now perform an analysis over either several tasks or one task to compare the methods."
   ]
  },
  {
   "cell_type": "markdown",
   "metadata": {},
   "source": [
    "Run over multiple tasks of one dataset."
   ]
  },
  {
   "cell_type": "code",
   "execution_count": 19,
   "metadata": {},
   "outputs": [],
   "source": [
    "OUTPUT_PATH_MULTIPLE_TASKS: str = 'data/results_multiple_tasks.jsonl'\n",
    "DATASET: Dataset = dataset\n",
    "TIME_STEP_LENGTH: int = 1"
   ]
  },
  {
   "cell_type": "code",
   "execution_count": 20,
   "metadata": {},
   "outputs": [
    {
     "name": "stdout",
     "output_type": "stream",
     "text": [
      "Current task index: 0\n",
      "QUBO done.\n",
      "Method simulated_annealing_solver\n",
      "Method done.\n",
      "Method exact_solver\n",
      "Method done.\n",
      "Method qaoa_solver\n",
      "Method done.\n",
      "Method sampling_vqe_solver\n",
      "Method done.\n"
     ]
    }
   ],
   "source": [
    "for task in dataset.tasks:\n",
    "    print(f'Current task index: {task.id}')\n",
    "    qubo, offset = build_discrete_qubo(\n",
    "        task=task,\n",
    "        time_step_length=1\n",
    "    )\n",
    "    print('QUBO done.')\n",
    "    \n",
    "    for method in [simulated_annealing_solver, exact_solver, qaoa_solver, sampling_vqe_solver]:\n",
    "        print('Method', method.__name__)\n",
    "        res, exec_time = method(qubo, offset)\n",
    "        print(\"Method done.\")\n",
    "        data = DataModel(\n",
    "            dataset=DATASET.name,\n",
    "            task_id=task.id,\n",
    "            method=method.__name__,\n",
    "            energy=res.energy,\n",
    "            exec_time=exec_time,\n",
    "            vars=res.active_vars,\n",
    "        )\n",
    "        append_data_to_file(OUTPUT_PATH_MULTIPLE_TASKS, data.model_dump_json())"
   ]
  },
  {
   "cell_type": "code",
   "execution_count": 21,
   "metadata": {},
   "outputs": [],
   "source": [
    "NUM_REPETITIONS: int = 3\n",
    "OUTPUT_PATH_SINGLE_TASK: str = 'data/results_single_task.jsonl'\n",
    "TASK: TransactionScheduleTask = example_task\n",
    "TIME_STEP_LENGTH: int = 1"
   ]
  },
  {
   "cell_type": "code",
   "execution_count": 22,
   "metadata": {},
   "outputs": [
    {
     "name": "stdout",
     "output_type": "stream",
     "text": [
      "Current repetition: 2\r"
     ]
    }
   ],
   "source": [
    "for i in range(NUM_REPETITIONS):\n",
    "    print(f'Current repetition: {i}', end='\\r')\n",
    "    qubo, offset = build_discrete_qubo(\n",
    "        task=TASK,\n",
    "        time_step_length=TIME_STEP_LENGTH\n",
    "    )\n",
    "    \n",
    "    for method in [simulated_annealing_solver, exact_solver, qaoa_solver, sampling_vqe_solver]:\n",
    "        res, exec_time = method(qubo, offset)\n",
    "        data = DataModel(\n",
    "            dataset=DATASET.name,\n",
    "            task_id=task.id,\n",
    "            method=method.__name__,\n",
    "            energy=res.energy,\n",
    "            exec_time=exec_time,\n",
    "            vars=res.active_vars,\n",
    "        )\n",
    "        append_data_to_file(OUTPUT_PATH_SINGLE_TASK, data.model_dump_json())"
   ]
  },
  {
   "cell_type": "markdown",
   "metadata": {},
   "source": [
    "## Analysis"
   ]
  },
  {
   "cell_type": "code",
   "execution_count": 23,
   "metadata": {},
   "outputs": [],
   "source": [
    "FILE_PATH = 'data/results_single_task_example.jsonl'"
   ]
  },
  {
   "cell_type": "code",
   "execution_count": 24,
   "metadata": {},
   "outputs": [
    {
     "data": {
      "image/png": "[encoded data removed]",
      "text/plain": [
       "<Figure size 2000x500 with 4 Axes>"
      ]
     },
     "metadata": {},
     "output_type": "display_data"
    }
   ],
   "source": [
    "data: List[DataModel] = read_json_lines_file_to_pydantic(FILE_PATH, DataModel)\n",
    "\n",
    "container = defaultdict(list)\n",
    "for entry in data:\n",
    "    container[entry.method].append(entry.exec_time)\n",
    "\n",
    "fig, axes = plt.subplots(ncols=len(container.keys()), figsize=(20, 5))\n",
    "for ax, val, label in zip(axes, container.values(), container.keys()):\n",
    "    ax.boxplot(val, labels=[label])\n",
    "axes[0].set_ylabel('Execution Time in Seconds')\n",
    "fig.suptitle(f'Execution Time per Method for Task {data[0].task_id} of DataSet {data[0].dataset}')\n",
    "plt.show()"
   ]
  },
  {
   "cell_type": "markdown",
   "metadata": {},
   "source": [
    "The figure shows the execution time in seconds for each method. As the range of execution times is different for each method, separate graphs are shown with separate y-axes.\n",
    "\n",
    "The figure shows that SamplingVQE has the longest execution time at over 30 seconds, while the exact solver has the lowest at well under a quarter of a second. The exact solver is followed by Simulated Annealing in second place and QAOA in third."
   ]
  },
  {
   "cell_type": "markdown",
   "metadata": {},
   "source": [
    "## Sources\n",
    "\n",
    "[1] Tim Bittner and Sven Groppe. 2020. Avoiding blocking by scheduling transactions using quantum annealing. In Proceedings of the 24th Symposium on International Database Engineering & Applications (IDEAS '20). Association for Computing Machinery, New York, NY, USA, Article 21, 1–10. https://doi.org/10.1145/3410566.3410593\n",
    "\n",
    "[2] Berend Denkena, Fritz Schinkel, Jonathan Pirnay, and Sören Wilmsmeier. 2021. Quantum algorithms for process parallel flexible job shop scheduling. In CIRP Journal of Manufacturing Science and Technology. The International Academy for Production Engineering, Paris, France. Volume 33, 100-114. https://doi.org/10.1016/j.cirpj.2021.03.006\n",
    "\n",
    "[3] Jules Tilly, Hongxiang Chen, Shuxiang Cao, Dario Picozzi, Kanav Setia, Ying Li, Edward Grant, Leonard Wossnig, Ivan Rungger, George H. Booth, and Jonathan Tennyson. 2022. The Variational Quantum Eigensolver: A review of methods and best practices. In Physics Reports. Volume 986, 1-128. https://doi.org/10.1016/j.physrep.2022.08.003\n",
    "\n",
    "[4] Edward Farhi, Jeffrey Goldstone, and Sam Gutmann. 2014. A Quantum Approximate Optimization Algorithm. In arXiv. https://doi.org/10.48550/arXiv.1411.4028"
   ]
  }
 ],
 "metadata": {
  "kernelspec": {
   "display_name": "quantum-annealing",
   "language": "python",
   "name": "python3"
  },
  "language_info": {
   "codemirror_mode": {
    "name": "ipython",
    "version": 3
   },
   "file_extension": ".py",
   "mimetype": "text/x-python",
   "name": "python",
   "nbconvert_exporter": "python",
   "pygments_lexer": "ipython3",
   "version": "3.8.10"
  }
 },
 "nbformat": 4,
 "nbformat_minor": 2
}
